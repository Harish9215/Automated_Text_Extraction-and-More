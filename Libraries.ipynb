{
 "cells": [
  {
   "cell_type": "markdown",
   "metadata": {},
   "source": [
    "## Install all these libraries for the Main code to work"
   ]
  },
  {
   "cell_type": "code",
   "execution_count": null,
   "metadata": {},
   "outputs": [],
   "source": [
    "# Install all necessary libraries\n",
    "!pip install PyMuPDF Pillow pytesseract spacy pandas streamlit\n",
    "\n",
    "# Install the spaCy language model separately\n",
    "!python -m spacy download en_core_web_sm"
   ]
  }
 ],
 "metadata": {
  "language_info": {
   "name": "python"
  }
 },
 "nbformat": 4,
 "nbformat_minor": 2
}
